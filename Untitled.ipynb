{
 "cells": [
  {
   "cell_type": "code",
   "execution_count": 1,
   "metadata": {},
   "outputs": [],
   "source": [
    "import numpy as np \n",
    "import matplotlib.pyplot as plt\n",
    "from numpy import genfromtxt\n",
    "from numpy import linalg as LA\n",
    "import mnist_reader\n",
    "import cv2\n",
    "import random\n",
    "\n"
   ]
  },
  {
   "cell_type": "markdown",
   "metadata": {},
   "source": []
  },
  {
   "cell_type": "code",
   "execution_count": null,
   "metadata": {},
   "outputs": [],
   "source": [
    "k = 10 # Number of classes\n",
    "xtrain, ytrain = mnist_reader.load_mnist('data/fashion', kind='train')\n",
    "xtest, ytest = mnist_reader.load_mnist('data/fashion', kind='t10k')\n",
    "N=np.size(xtrain,axis=0)\n",
    "comp = 80\n",
    "u = PCA(xtrain,comp)\n",
    "u=u.transpose()\n",
    "xtrain1=np.dot(xtrain,u)\n",
    "xtest1=np.dot(xtest,u)\n",
    "x = separateByclass(xtrain1,ytrain,k)"
   ]
  },
  {
   "cell_type": "code",
   "execution_count": 2,
   "metadata": {},
   "outputs": [],
   "source": [
    "def separateByclass(x,y,k):\n",
    "\tX= []\n",
    "\tfor i in range(0,k):\n",
    "\t\tt = x[y[:]==i,:]\n",
    "\t\tX.append(t)\n",
    "\treturn X\n",
    "\n",
    "\n",
    "def DataVisualization(x):\n",
    "\tplt.figure(0)\n",
    "\tmarker=['o','+','^','x','D','*','h','8','p','s','|','_']\n",
    "\tfor i in range(0,k):\n",
    "\t\tplt.scatter(x[i][:,0],x[i][:,1],marker=marker[i])\n",
    "\tplt.show()\n"
   ]
  },
  {
   "cell_type": "code",
   "execution_count": 10,
   "metadata": {},
   "outputs": [
    {
     "name": "stdout",
     "output_type": "stream",
     "text": [
      "\n"
     ]
    }
   ],
   "source": [
    "def MLENaiive(x):\n",
    "\tmean = np.mean(x,axis=0)\n",
    "\tvar = np.var(x,axis=0)\n",
    "\treturn [mean,var]\n",
    "\n",
    "def distanceMetric(x1,x2):\n",
    "\tx1=np.asarray(x1)\n",
    "\tx2=np.asarray(x2)\n",
    "\tm=np.size(x1,axis=0)\n",
    "\tn=np.size(x2,axis=0)\n",
    "\td=np.size(x1,axis=1)\n",
    "\tx1=np.reshape(x1,(1,m,d))\n",
    "\tx2=np.reshape(x2,(n,1,d))\n",
    "\tdiff = x1-x2\n",
    "\tdiff=diff*diff\n",
    "\tres = np.sum(diff,axis=2)\n",
    "\treturn res # every row corresponds to different test sample, every column represents training sample\n",
    "\n",
    "def calculateAccuracy(ycalc,ytest):\n",
    "\terr = ycalc-ytest\n",
    "\terr = np.where(err==0)\n",
    "\tacc = np.size(err)*1.0/np.size(ycalc)*100\n",
    "\treturn acc\n",
    "\n",
    "def BayesianEstimate(mu,cov,n):\n",
    "\td = np.size(cov,axis=1)\n",
    "\tmu0 = np.zeros((1,d))\n",
    "\tsigma = cov\n",
    "\tsigma0 = np.eye(d,d)\n",
    "\tt = sigma0+sigma*1.0/n\n",
    "\tt = np.linalg.inv(t)\n",
    "\tt1 = np.dot(sigma0,t)\n",
    "\tt2 = np.dot(sigma,t)\n",
    "\tt1 = np.dot(mu,t1)\n",
    "\tt2 = np.dot(mu0,t2)\n",
    "\tmean = t1+t2\n",
    "\tsigman = np.dot(t1,sigma)\n",
    "\tsigman = sigman*1.0/n\n",
    "\tsigman = sigma+sigman\n",
    "\treturn [mean,sigman]\n",
    "\n",
    "\n",
    "\n",
    "def statistics(ycalc,ytest,k):\n",
    "\tm = np.zeros((k,k))\n",
    "\tfor i in range(0,k):\n",
    "\t\tind =  np.where(ytest==i)\n",
    "\t\tt = ycalc[ind]\n",
    "# \t\tprint np.size(t)\n",
    "\t\tfor j in range(0,k):\n",
    "\t\t\tt1 = np.where(t==j)\n",
    "\t\t\te = np.size(t1)\n",
    "\t\t\tm[i][j]=e\n",
    "\n",
    "\tm = m.transpose()\n",
    "\tprint \"Confusion Matrix\"\n",
    "\tprint m\n",
    "\ttotpredicted = np.sum(m,axis=1)\n",
    "\ttotactual = np.sum(m,axis=0)\n",
    "\tp = np.eye((k))*m\n",
    "\tp = np.sum(p,axis=0)*1.0\n",
    "\tprecision = np.divide(p,totpredicted)\n",
    "\trecall = np.divide(p,totactual)\n",
    "\tf1=2*precision*recall\n",
    "\tf2=precision+recall\n",
    "\tfscore = f1/f2\n",
    "\tprint \"Precision \"\n",
    "\tprint  precision\n",
    "\tprint \"Recall \"\n",
    "\tprint recall\n",
    "\tprint \"Fscore\"\n",
    "\tprint fscore\n",
    "\n",
    "\treturn m\n",
    "\n",
    "\n",
    "def Naiivegaussian(x,mu,var):\n",
    "\td = np.size(x,axis=1)\n",
    "\tn = np.size(x,axis=0)\n",
    "\tsig = np.eye((d))\n",
    "\tsigma = sig*var\n",
    "\tsigmainv=sig/var\n",
    "# \tprint ' *'\n",
    "\tt=np.sum(sigma,axis=0)\n",
    "\tdet = np.product(t)\n",
    "\tprint det\n",
    "\tz = np.dot(x-mu,sigmainv)\n",
    "\tz = np.dot(z,(x-mu).transpose())\n",
    "\tz = z * np.eye(n)\n",
    "\tz = np.sum(z,axis=0)\n",
    "\tz = np.exp(-1*z)\n",
    "\tz = z/(((2*3.14)**(d/2))*det)\n",
    "\treturn z\n",
    "\n",
    "\n",
    "\t\n",
    "def PCA(m,c):\n",
    "\tmean = np.mean(m,axis=0)\n",
    "\tm=m-mean\n",
    "\tcov = np.cov(m.transpose())\n",
    "\teigval , eigvec = LA.eig(cov)\n",
    "\ta = np.argsort(eigval)\n",
    "\tb = eigvec[a]\n",
    "\treturn b[0:c]\n",
    "\n",
    "\n",
    "\n",
    "def visualizeMNIST(x,s):\n",
    "\tprint np.size(x)\n",
    "\ts1=x.size**0.5\n",
    "\ts1=int(s1)\n",
    "\ty=np.reshape(x,(s1,s1))\n",
    "\tplt.imshow(y,cmap='gray')\n",
    "\tplt.savefig(s)\n",
    "\n",
    "def classifyNaiiveBayes(x,xtest,ytest,N):\n",
    "\ttheta = []\n",
    "\tcc = []\n",
    "\tprior = []\n",
    "\tposterior = []\n",
    "\tfor i in range(0,k):\n",
    "\t\tt = MLENaiive(x[i])\n",
    "\t\tccond = Naiivegaussian(xtest,t[0],t[1])\n",
    "\t\tp = np.size(x[i],axis=0)*1.0/N\n",
    "\t\tpos = ccond*p\n",
    "\t\ttheta.append(t)\n",
    "\t\tcc.append(ccond)\n",
    "\t\tprior.append(p)\n",
    "\t\tposterior.append(pos)\n",
    "\n",
    "\tbayes = np.argmax(posterior,axis=0)\n",
    "\tacc = calculateAccuracy(bayes,ytest)\n",
    "\tprint \"Accuracy on test set for naiive bayes classifier is \",acc\n",
    "\n",
    "def gaussian(x,mu,cov):\n",
    "\td=np.size(x,axis=1)\n",
    "\tn=np.size(x,axis=0)\n",
    "\tsigma = cov\n",
    "\tsigmainv=np.linalg.inv(cov)\n",
    "\tx1 = x-mu\n",
    "\tt = np.dot(x1,sigmainv)\n",
    "\tt = np.dot(t,x1.transpose())\n",
    "\tz = t * np.eye(n)\n",
    "\tz = np.sum(z,axis=0)\n",
    "\tz = np.exp(-1*z)\n",
    "\t# print np.shape(cov)\n",
    "\tsign,logdet = np.linalg.slogdet(cov)\n",
    "\t# print sign, \" \",logdet\n",
    "\tlogdet=logdet/2\n",
    "\tdet = sign*np.exp(logdet)\n",
    "\tz = z/(((2*3.14)**(d/2))*det)\n",
    "\treturn z\n",
    "\n",
    "def MLE(x):\n",
    "\tmean = np.mean(x,axis=0)\n",
    "\tvar = np.cov(x.transpose())\n",
    "\t# print np.size(mean)\n",
    "\treturn [mean,var]\n",
    "\n",
    "def classifyBayes(x,xtest,ytest,N):\n",
    "\ttheta = []\n",
    "\tcc = []\n",
    "\tprior = []\n",
    "\tposterior = []\n",
    "\tfor i in range(0,k):\n",
    "\t\tt = MLE(x[i])\n",
    "\t\tccond = gaussian(xtest,t[0],t[1])\n",
    "\t\tp = np.size(x[i],axis=0)*1.0/N\n",
    "\t\tpos = ccond*p\n",
    "\t\ttheta.append(t)\n",
    "\t\tcc.append(ccond)\n",
    "\t\tprior.append(p)\n",
    "\t\tposterior.append(pos)\n",
    "\tbayes = np.argmax(posterior,axis=0)\n",
    "\tacc = calculateAccuracy(bayes,ytest)\n",
    "\tprint \"Accuracy on test set for bayes classifier is \",acc\n",
    "\treturn acc\n",
    "\n",
    "def classifyBayesBayesianEstimate(x,xtest,ytest,N):\n",
    "\ttheta = []\n",
    "\tcc = []\n",
    "\tprior = []\n",
    "\tposterior = []\n",
    "\tfor i in range(0,k):\n",
    "\t\tt = MLE(x[i])\n",
    "\t\tm,v = BayesianEstimate(t[0],t[1],np.size(x[i],axis=0))\n",
    "\t\tccond = gaussian(xtest,m,v)\n",
    "\t\tp = np.size(x[i],axis=0)*1.0/N\n",
    "\t\tpos = ccond*p\n",
    "\t\ttheta.append(t)\n",
    "\t\tcc.append(ccond)\n",
    "\t\tprior.append(p)\n",
    "\t\tposterior.append(pos)\n",
    "\tbayes = np.argmax(posterior,axis=0)\n",
    "\tacc = calculateAccuracy(bayes,ytest)\n",
    "\tprint \"Accuracy on test set for bayes classifier with Bayesian estimation techniques is \",acc\n",
    "\treturn acc\n",
    "\n",
    "def classifyKNN(xtrain,ytrain,xtest,ytest, knn):\n",
    "\tn = np.size(xtest,axis=0)\n",
    "\tres = distanceMetric(xtrain,xtest)\n",
    "\torder = np.argsort(res,axis=1)\n",
    "\torder = order[:,0:knn]\n",
    "\ty = np.reshape(ytrain,(np.size(ytrain),1))\n",
    "\tres=y[order]\n",
    "\tres=np.squeeze(res)\n",
    "\tans=np.zeros((k,np.size(xtest,axis=0)))\n",
    "\tfor i in range(0,k):\n",
    "\t\tf=np.sum((res==i)*1,axis=1)\n",
    "\t\tans[i]=f\n",
    "\n",
    "\tans=ans.transpose()\n",
    "\tans=np.argmax(ans,axis=1)\n",
    "\terr = ans-ytest\n",
    "\terr = np.where(err==0)\n",
    "# \tprint np.size(err)\n",
    "# \tprint \"Accuracy for k-nearest neighbour with k = \",knn,\" is \",acc\n",
    "\treturn np.size(err)\n",
    "\n",
    "def kMeans(xtrain,km,y,xtest,ytest):\n",
    "\tN = np.size(xtrain,axis=0)\n",
    "\tnumber = random.sample(xrange(1,N), km)\n",
    "\tcentroid = xtrain[number]\n",
    "\tc=0\n",
    "\twhile(True):\n",
    "\t\tprev=np.copy(centroid)\n",
    "\t\tdist = distanceMetric(xtrain,centroid)\n",
    "# \t\tprint \"Distane Metric \", np.shape(dist)\n",
    "\t\tcurr = np.argmin(dist,axis=0)\n",
    "# \t\tprint np.shape(curr)\n",
    "# \t\tprint np.bincount(curr)\n",
    "\t\tX=[]\n",
    "\t\tfor i in range(0,km):\n",
    "\t\t\ttemp=np.where(curr==i)\n",
    "\t\t\tx1=xtrain[temp]\n",
    "\t\t\tn1=np.size(temp)\n",
    "\t\t\tif(n1>0):\n",
    "\t\t\t\tcentroid[i]=np.mean(x1,axis=0)\n",
    "\t\t\t\tX.append(temp)\n",
    "\t\t\telse:\n",
    "\t\t\t\tX.append(temp)\n",
    "\t\tupdate=distanceMetric(prev,centroid)\n",
    "\t\tupdate=update*np.eye(km,km)\n",
    "\t\tupdate=np.sum(update,axis=0)\n",
    "\t\t# print update[0]\n",
    "\t\tmindiff=np.min(update)\n",
    "\t\tc+=1\n",
    "# \t\tprint mindiff\n",
    "\t\tif(mindiff<=0.0000001):\n",
    "\t\t\tbreak;\n",
    "\tcl =np.zeros((km,km))\n",
    "\tfor i in range(0,km):\n",
    "\t\tt = X[i]\n",
    "\t\tp = y[t]\n",
    "\t\tp = p.astype(int)\n",
    "\t\tcount = np.bincount(p)\n",
    "\t\tcount = np.asarray(count)\n",
    "\t\tif(np.size(count)<km):\n",
    "\t\t\tcount = np.append(count,0)\n",
    "\t\tcount = count.reshape(1,np.size(count))\n",
    "\t\tcl[i]=count\n",
    "\tclasses = np.argmax(cl,axis=1)\n",
    "\tM = np.size(xtest,axis=0)\n",
    "\tdist = distanceMetric(xtest,centroid)\n",
    "\tlab = np.argmin(dist,axis=0)\n",
    "\ty2 = np.zeros(M)\n",
    "\tfor i in range(0,km):\n",
    "\t\ty2[np.where(lab==i)]=classes[i]\n",
    "\ty2=y2.astype(int)\n",
    "\tprint \"Kmeans accuracy \" ,calculateAccuracy(y2,ytest)\n",
    "\treturn calculateAccuracy(y2,ytest)\n",
    "\n",
    "\n",
    "\n",
    "def kMeansVisualisation(xtrain,centroid,km,i1):\n",
    "\tplt.figure(1)\n",
    "\tdist = distanceMetric(xtrain,centroid)\n",
    "\tcurr = np.argmin(dist,axis=0)\n",
    "\tcolor=['red','blue','green','yellow','orange','purple','black','pink','aqua']\n",
    "\tfor i in range(0,km):\n",
    "\t\ttemp=np.where(curr==i)\n",
    "\t\tx1=xtrain[temp]\n",
    "\t\tplt.scatter(centroid[i][0],centroid[i][1],s=100,color='black',marker='X')\n",
    "\t\tplt.scatter(x1[:,0],x1[:,1],s=2,color=color[i])\n",
    "\tname=str(i1)+'.png'\n",
    "\tprint name\n",
    "\tplt.savefig(name)\n",
    "\tplt.clf()\n",
    "\n",
    "\n",
    "def OptimumKNN(xtrain,ytrain,xtest,ytest):\n",
    "\tres=[]\n",
    "\tindex=[]\n",
    "\tfor i in range(k,100):\n",
    "\t\tt=classifyKNN(xtrain,ytrain,xtest,ytest,i)\n",
    "\t\tres.append(t)\n",
    "\t\tindex.append(i)\n",
    "\n",
    "\topt = np.argmax(res)\n",
    "\tprint \"Optimum K-nearest neighbour is at K=\",opt+3,\" and gives accuracy \",res[opt]\n",
    "\n",
    "\tplt.figure(1)\n",
    "\tplt.plot(index,res)\n",
    "\tplt.show()\n",
    "\n",
    "def PCAVisualize(u,x):\n",
    "\txtrain1=np.dot(x,u)\n",
    "\txnew=np.dot(u,xtrain1)\n",
    "\ts='test'+'.png'\n",
    "\tvisualizeMNIST(xnew,s)"
   ]
  },
  {
   "cell_type": "markdown",
   "metadata": {},
   "source": [
    "#MedicalData"
   ]
  },
  {
   "cell_type": "code",
   "execution_count": null,
   "metadata": {},
   "outputs": [],
   "source": [
    "dtrain = genfromtxt('medicalData.txt')\n",
    "dtest = genfromtxt('medicaltest.txt')\n",
    "k = 3 # Number of classes\n",
    "N = np.size(dtrain,axis=0)\n",
    "xtrain=dtrain[:,1:]\n",
    "ytrain=dtrain[:,0]\n",
    "xtest = dtest[:,1:]\n",
    "ytest = dtest[:,0]\n",
    "x = separateByclass(xtrain,ytrain,k)\n"
   ]
  },
  {
   "cell_type": "code",
   "execution_count": null,
   "metadata": {},
   "outputs": [],
   "source": [
    "classifyNaiiveBayes(x,xtest,ytest,N)"
   ]
  },
  {
   "cell_type": "code",
   "execution_count": null,
   "metadata": {},
   "outputs": [],
   "source": []
  },
  {
   "cell_type": "code",
   "execution_count": null,
   "metadata": {},
   "outputs": [],
   "source": [
    "classifyBayes(x,xtest,ytest,N)"
   ]
  },
  {
   "cell_type": "code",
   "execution_count": null,
   "metadata": {},
   "outputs": [],
   "source": [
    "classifyBayesBayesianEstimate(x,xtest,ytest,N)"
   ]
  },
  {
   "cell_type": "code",
   "execution_count": null,
   "metadata": {},
   "outputs": [],
   "source": [
    "acc = classifyKNN(xtrain,ytrain,xtest,ytest,10)*100.0/np.size(ytest)\n",
    "print \"KNN accuracy is \",acc"
   ]
  },
  {
   "cell_type": "code",
   "execution_count": null,
   "metadata": {},
   "outputs": [],
   "source": [
    "kMeans(xtrain,3,ytrain,xtest,ytest)"
   ]
  },
  {
   "cell_type": "markdown",
   "metadata": {},
   "source": [
    "#FASHION "
   ]
  },
  {
   "cell_type": "code",
   "execution_count": 7,
   "metadata": {},
   "outputs": [],
   "source": [
    "k = 10 # Number of classes\n",
    "xtrain, ytrain = mnist_reader.load_mnist('data/fashion', kind='train')\n",
    "xtest, ytest = mnist_reader.load_mnist('data/fashion', kind='t10k')\n",
    "N=np.size(xtrain,axis=0)"
   ]
  },
  {
   "cell_type": "code",
   "execution_count": null,
   "metadata": {},
   "outputs": [],
   "source": []
  },
  {
   "cell_type": "code",
   "execution_count": 8,
   "metadata": {},
   "outputs": [],
   "source": [
    "comp = 5\n",
    "u = PCA(xtrain,comp)\n",
    "u=u.transpose()\n",
    "xtrain1=np.dot(xtrain,u)\n",
    "xtest1=np.dot(xtest,u)\n",
    "x = separateByclass(xtrain1,ytrain,k)"
   ]
  },
  {
   "cell_type": "code",
   "execution_count": 11,
   "metadata": {},
   "outputs": [
    {
     "ename": "KeyboardInterrupt",
     "evalue": "",
     "output_type": "error",
     "traceback": [
      "\u001b[0;31m---------------------------------------------------------------------------\u001b[0m",
      "\u001b[0;31mKeyboardInterrupt\u001b[0m                         Traceback (most recent call last)",
      "\u001b[0;32m<ipython-input-11-b8d9d9244a10>\u001b[0m in \u001b[0;36m<module>\u001b[0;34m()\u001b[0m\n\u001b[1;32m      1\u001b[0m \u001b[0mE\u001b[0m\u001b[0;34m=\u001b[0m\u001b[0;36m0\u001b[0m\u001b[0;34m\u001b[0m\u001b[0m\n\u001b[1;32m      2\u001b[0m \u001b[0;32mfor\u001b[0m \u001b[0mi\u001b[0m \u001b[0;32min\u001b[0m \u001b[0mrange\u001b[0m\u001b[0;34m(\u001b[0m\u001b[0;36m0\u001b[0m\u001b[0;34m,\u001b[0m\u001b[0;36m9990\u001b[0m\u001b[0;34m,\u001b[0m\u001b[0;36m100\u001b[0m\u001b[0;34m)\u001b[0m\u001b[0;34m:\u001b[0m\u001b[0;34m\u001b[0m\u001b[0m\n\u001b[0;32m----> 3\u001b[0;31m         \u001b[0mE\u001b[0m \u001b[0;34m=\u001b[0m \u001b[0mE\u001b[0m \u001b[0;34m+\u001b[0m \u001b[0mclassifyKNN\u001b[0m\u001b[0;34m(\u001b[0m\u001b[0mxtrain1\u001b[0m\u001b[0;34m[\u001b[0m\u001b[0;36m0\u001b[0m\u001b[0;34m:\u001b[0m\u001b[0;36m60000\u001b[0m\u001b[0;34m,\u001b[0m\u001b[0;34m:\u001b[0m\u001b[0;34m]\u001b[0m\u001b[0;34m,\u001b[0m\u001b[0mytrain\u001b[0m\u001b[0;34m,\u001b[0m\u001b[0mxtest1\u001b[0m\u001b[0;34m[\u001b[0m\u001b[0mi\u001b[0m\u001b[0;34m:\u001b[0m\u001b[0mi\u001b[0m\u001b[0;34m+\u001b[0m\u001b[0;36m100\u001b[0m\u001b[0;34m,\u001b[0m\u001b[0;34m:\u001b[0m\u001b[0;34m]\u001b[0m\u001b[0;34m,\u001b[0m\u001b[0mytest\u001b[0m\u001b[0;34m[\u001b[0m\u001b[0mi\u001b[0m\u001b[0;34m:\u001b[0m\u001b[0mi\u001b[0m\u001b[0;34m+\u001b[0m\u001b[0;36m100\u001b[0m\u001b[0;34m]\u001b[0m\u001b[0;34m,\u001b[0m\u001b[0;36m10\u001b[0m\u001b[0;34m)\u001b[0m\u001b[0;34m\u001b[0m\u001b[0m\n\u001b[0m\u001b[1;32m      4\u001b[0m \u001b[0;34m\u001b[0m\u001b[0m\n\u001b[1;32m      5\u001b[0m \u001b[0;32mprint\u001b[0m  \u001b[0mE\u001b[0m\u001b[0;34m*\u001b[0m\u001b[0;36m100.0\u001b[0m\u001b[0;34m/\u001b[0m\u001b[0;36m10000\u001b[0m\u001b[0;34m\u001b[0m\u001b[0m\n",
      "\u001b[0;32m<ipython-input-10-275328a26bac>\u001b[0m in \u001b[0;36mclassifyKNN\u001b[0;34m(xtrain, ytrain, xtest, ytest, knn)\u001b[0m\n\u001b[1;32m    199\u001b[0m \u001b[0;32mdef\u001b[0m \u001b[0mclassifyKNN\u001b[0m\u001b[0;34m(\u001b[0m\u001b[0mxtrain\u001b[0m\u001b[0;34m,\u001b[0m\u001b[0mytrain\u001b[0m\u001b[0;34m,\u001b[0m\u001b[0mxtest\u001b[0m\u001b[0;34m,\u001b[0m\u001b[0mytest\u001b[0m\u001b[0;34m,\u001b[0m \u001b[0mknn\u001b[0m\u001b[0;34m)\u001b[0m\u001b[0;34m:\u001b[0m\u001b[0;34m\u001b[0m\u001b[0m\n\u001b[1;32m    200\u001b[0m         \u001b[0mn\u001b[0m \u001b[0;34m=\u001b[0m \u001b[0mnp\u001b[0m\u001b[0;34m.\u001b[0m\u001b[0msize\u001b[0m\u001b[0;34m(\u001b[0m\u001b[0mxtest\u001b[0m\u001b[0;34m,\u001b[0m\u001b[0maxis\u001b[0m\u001b[0;34m=\u001b[0m\u001b[0;36m0\u001b[0m\u001b[0;34m)\u001b[0m\u001b[0;34m\u001b[0m\u001b[0m\n\u001b[0;32m--> 201\u001b[0;31m         \u001b[0mres\u001b[0m \u001b[0;34m=\u001b[0m \u001b[0mdistanceMetric\u001b[0m\u001b[0;34m(\u001b[0m\u001b[0mxtrain\u001b[0m\u001b[0;34m,\u001b[0m\u001b[0mxtest\u001b[0m\u001b[0;34m)\u001b[0m\u001b[0;34m\u001b[0m\u001b[0m\n\u001b[0m\u001b[1;32m    202\u001b[0m         \u001b[0morder\u001b[0m \u001b[0;34m=\u001b[0m \u001b[0mnp\u001b[0m\u001b[0;34m.\u001b[0m\u001b[0margsort\u001b[0m\u001b[0;34m(\u001b[0m\u001b[0mres\u001b[0m\u001b[0;34m,\u001b[0m\u001b[0maxis\u001b[0m\u001b[0;34m=\u001b[0m\u001b[0;36m1\u001b[0m\u001b[0;34m)\u001b[0m\u001b[0;34m\u001b[0m\u001b[0m\n\u001b[1;32m    203\u001b[0m         \u001b[0morder\u001b[0m \u001b[0;34m=\u001b[0m \u001b[0morder\u001b[0m\u001b[0;34m[\u001b[0m\u001b[0;34m:\u001b[0m\u001b[0;34m,\u001b[0m\u001b[0;36m0\u001b[0m\u001b[0;34m:\u001b[0m\u001b[0mknn\u001b[0m\u001b[0;34m]\u001b[0m\u001b[0;34m\u001b[0m\u001b[0m\n",
      "\u001b[0;32m<ipython-input-10-275328a26bac>\u001b[0m in \u001b[0;36mdistanceMetric\u001b[0;34m(x1, x2)\u001b[0m\n\u001b[1;32m     12\u001b[0m         \u001b[0mx1\u001b[0m\u001b[0;34m=\u001b[0m\u001b[0mnp\u001b[0m\u001b[0;34m.\u001b[0m\u001b[0mreshape\u001b[0m\u001b[0;34m(\u001b[0m\u001b[0mx1\u001b[0m\u001b[0;34m,\u001b[0m\u001b[0;34m(\u001b[0m\u001b[0;36m1\u001b[0m\u001b[0;34m,\u001b[0m\u001b[0mm\u001b[0m\u001b[0;34m,\u001b[0m\u001b[0md\u001b[0m\u001b[0;34m)\u001b[0m\u001b[0;34m)\u001b[0m\u001b[0;34m\u001b[0m\u001b[0m\n\u001b[1;32m     13\u001b[0m         \u001b[0mx2\u001b[0m\u001b[0;34m=\u001b[0m\u001b[0mnp\u001b[0m\u001b[0;34m.\u001b[0m\u001b[0mreshape\u001b[0m\u001b[0;34m(\u001b[0m\u001b[0mx2\u001b[0m\u001b[0;34m,\u001b[0m\u001b[0;34m(\u001b[0m\u001b[0mn\u001b[0m\u001b[0;34m,\u001b[0m\u001b[0;36m1\u001b[0m\u001b[0;34m,\u001b[0m\u001b[0md\u001b[0m\u001b[0;34m)\u001b[0m\u001b[0;34m)\u001b[0m\u001b[0;34m\u001b[0m\u001b[0m\n\u001b[0;32m---> 14\u001b[0;31m         \u001b[0mdiff\u001b[0m \u001b[0;34m=\u001b[0m \u001b[0mx1\u001b[0m\u001b[0;34m-\u001b[0m\u001b[0mx2\u001b[0m\u001b[0;34m\u001b[0m\u001b[0m\n\u001b[0m\u001b[1;32m     15\u001b[0m         \u001b[0mdiff\u001b[0m\u001b[0;34m=\u001b[0m\u001b[0mdiff\u001b[0m\u001b[0;34m*\u001b[0m\u001b[0mdiff\u001b[0m\u001b[0;34m\u001b[0m\u001b[0m\n\u001b[1;32m     16\u001b[0m         \u001b[0mres\u001b[0m \u001b[0;34m=\u001b[0m \u001b[0mnp\u001b[0m\u001b[0;34m.\u001b[0m\u001b[0msum\u001b[0m\u001b[0;34m(\u001b[0m\u001b[0mdiff\u001b[0m\u001b[0;34m,\u001b[0m\u001b[0maxis\u001b[0m\u001b[0;34m=\u001b[0m\u001b[0;36m2\u001b[0m\u001b[0;34m)\u001b[0m\u001b[0;34m\u001b[0m\u001b[0m\n",
      "\u001b[0;31mKeyboardInterrupt\u001b[0m: "
     ]
    }
   ],
   "source": [
    "E=0\n",
    "for i in range(0,9990,100):\n",
    "\tE = E + classifyKNN(xtrain1[0:60000,:],ytrain,xtest1[i:i+100,:],ytest[i:i+100],10)\n",
    "\n",
    "print  E*100.0/10000"
   ]
  },
  {
   "cell_type": "code",
   "execution_count": 12,
   "metadata": {},
   "outputs": [
    {
     "name": "stdout",
     "output_type": "stream",
     "text": [
      "7.081363059887164e+17\n",
      "4.302125829685212e+16\n",
      "2.3988562253382113e+18\n",
      "3.6733495897034394e+17\n",
      "1.649961332341763e+18\n",
      "9.497250806125165e+17\n",
      "2.968996900029567e+18\n",
      "1.3004364923564027e+17\n",
      "4.3873880290474803e+18\n",
      "1.0255307943583679e+18\n",
      "Accuracy on test set for naiive bayes classifier is  43.07\n"
     ]
    }
   ],
   "source": [
    "classifyNaiiveBayes(x,xtest1,ytest,N)"
   ]
  },
  {
   "cell_type": "code",
   "execution_count": 13,
   "metadata": {},
   "outputs": [
    {
     "name": "stdout",
     "output_type": "stream",
     "text": [
      "Accuracy on test set for bayes classifier is  48.76\n"
     ]
    },
    {
     "data": {
      "text/plain": [
       "48.76"
      ]
     },
     "execution_count": 13,
     "metadata": {},
     "output_type": "execute_result"
    }
   ],
   "source": [
    "classifyBayes(x,xtest1,ytest,N)"
   ]
  },
  {
   "cell_type": "code",
   "execution_count": 15,
   "metadata": {},
   "outputs": [
    {
     "name": "stdout",
     "output_type": "stream",
     "text": [
      "Accuracy on test set for bayes classifier with Bayesian estimation techniques is  38.61\n"
     ]
    },
    {
     "data": {
      "text/plain": [
       "38.61"
      ]
     },
     "execution_count": 15,
     "metadata": {},
     "output_type": "execute_result"
    }
   ],
   "source": [
    "classifyBayesBayesianEstimate(x,xtest1,ytest,N)"
   ]
  },
  {
   "cell_type": "code",
   "execution_count": null,
   "metadata": {},
   "outputs": [],
   "source": [
    "kMeans(xtrain1,10,ytrain,xtest1,ytest)"
   ]
  }
 ],
 "metadata": {
  "kernelspec": {
   "display_name": "Python 2",
   "language": "python",
   "name": "python2"
  },
  "language_info": {
   "codemirror_mode": {
    "name": "ipython",
    "version": 2
   },
   "file_extension": ".py",
   "mimetype": "text/x-python",
   "name": "python",
   "nbconvert_exporter": "python",
   "pygments_lexer": "ipython2",
   "version": "2.7.14"
  }
 },
 "nbformat": 4,
 "nbformat_minor": 2
}
